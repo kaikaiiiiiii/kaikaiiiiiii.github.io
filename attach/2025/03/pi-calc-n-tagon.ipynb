{
 "cells": [
  {
   "cell_type": "code",
   "execution_count": 3,
   "id": "7e0d0c9f-b8ca-40c7-bb1e-6bd4840f2571",
   "metadata": {},
   "outputs": [],
   "source": [
    "import matplotlib.pyplot as plt\n",
    "import numpy as np\n",
    "import colorsys\n"
   ]
  },
  {
   "cell_type": "code",
   "execution_count": null,
   "id": "c1aa80e7-2863-4ce5-934f-7ee6ee2c70d3",
   "metadata": {},
   "outputs": [],
   "source": [
    "# 图形参数设置\n",
    "radius = 1          # 圆半径\n",
    "center = (0, 0)     # 圆心坐标\n",
    "\n",
    "# 创建画布和坐标系\n",
    "fig, ax = plt.subplots(figsize=(8, 8))\n",
    "ax.set_aspect('equal')  # 保证坐标轴等比例\n",
    "\n",
    "# 绘制圆形（蓝色边框）\n",
    "circle = plt.Circle(center, radius, fill=False, color='black', linewidth=1)\n",
    "ax.add_artist(circle)\n",
    "\n",
    "# 添加圆心标记\n",
    "# ax.text(0, 0, \"O\", ha=\"center\", va=\"center\", fontsize=12, color=\"black\")\n",
    "\n",
    "def draw_n_tagons(n,color=\"green\"):\n",
    "    angles = np.linspace(0, 2*np.pi, n, endpoint=False)\n",
    "    x = radius * np.cos(angles)\n",
    "    y = radius * np.sin(angles)\n",
    "    for i in range(n):\n",
    "        ax.plot(\n",
    "            [x[i], x[(i + 1) % n]],\n",
    "            [y[i], y[(i + 1) % n]],\n",
    "            color=color,\n",
    "            linestyle=\"solid\",\n",
    "            linewidth=1,\n",
    "        )\n",
    "    ax.plot([x[0],0],[y[0],0],color=color,linestyle=\"solid\",linewidth=0.5)\n",
    "    ax.plot([x[1],0],[y[1],0],color=color,linestyle=\"solid\",linewidth=0.5)\n",
    "\n",
    "def multiple_tagons(m):\n",
    "    for i in range(0,m):\n",
    "        draw_n_tagons(2**i * 6, color=colorsys.hsv_to_rgb(1 / m*i, 1, 0.8))\n",
    "\n",
    "multiple_tagons(14)\n",
    "\n",
    "# 设置坐标范围和网格\n",
    "ax.set_xlim(0.9,  1.01)\n",
    "ax.set_ylim(0,  0.05)\n",
    "\n",
    "# 显示图形\n",
    "plt.show()"
   ]
  },
  {
   "cell_type": "code",
   "execution_count": null,
   "id": "5429db40-bcb3-4619-a426-f2b37a7dae17",
   "metadata": {},
   "outputs": [],
   "source": []
  }
 ],
 "metadata": {
  "kernelspec": {
   "display_name": "base",
   "language": "python",
   "name": "python3"
  },
  "language_info": {
   "codemirror_mode": {
    "name": "ipython",
    "version": 3
   },
   "file_extension": ".py",
   "mimetype": "text/x-python",
   "name": "python",
   "nbconvert_exporter": "python",
   "pygments_lexer": "ipython3",
   "version": "3.12.2"
  }
 },
 "nbformat": 4,
 "nbformat_minor": 5
}
